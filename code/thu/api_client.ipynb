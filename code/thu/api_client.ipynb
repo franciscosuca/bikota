{
 "cells": [
  {
   "cell_type": "code",
   "execution_count": 1,
   "metadata": {},
   "outputs": [],
   "source": [
    "import requests as req\n",
    "import urllib3\n",
    "import json"
   ]
  },
  {
   "cell_type": "code",
   "execution_count": 2,
   "metadata": {},
   "outputs": [
    {
     "name": "stdout",
     "output_type": "stream",
     "text": [
      "200\n",
      "<html><body><h1>Welcome to req.dev.iota.pw</h1></body></html>\n"
     ]
    }
   ],
   "source": [
    "# Example GET request\n",
    "resp = req.get(\"https://req.dev.iota.pw\")\n",
    "print(resp.status_code)\n",
    "print(resp.text)"
   ]
  },
  {
   "cell_type": "code",
   "execution_count": 3,
   "metadata": {},
   "outputs": [
    {
     "name": "stdout",
     "output_type": "stream",
     "text": [
      "{\"HttpStatusCode\": 200, \"HttpMessage\": \"OK\", \"MoreInformation\": \"Success.\"}\n"
     ]
    }
   ],
   "source": [
    "# Example PUT request to update session address of a hardware\n",
    "resp = req.put(\"https://req.dev.iota.pw\", json=json.dumps({'hardwareID': 1, 'address': 'QCWAVASCPCXAXAYABBRCXASCCBRCCBBBUAUCABQCSCVAYARCYAXAYAZAXAYARCRCQCTCCBXATCABCBABX'}))\n",
    "print(resp.text)"
   ]
  },
  {
   "cell_type": "code",
   "execution_count": 4,
   "metadata": {},
   "outputs": [
    {
     "name": "stdout",
     "output_type": "stream",
     "text": [
      "{\"HttpStatusCode\": 200, \"HttpMessage\": \"OK\", \"MoreInformation\": \"Success\"}\n"
     ]
    }
   ],
   "source": [
    "# Example POST request to insert sensor data of a hardware to database\n",
    "resp = req.post(\"https://req.dev.iota.pw\", json=json.dumps({\"hardwareID\": 1, \"data\": [61.123, 7.933, 19.20, 35.70]}))\n",
    "print(resp.text)"
   ]
  },
  {
   "cell_type": "code",
   "execution_count": 5,
   "metadata": {},
   "outputs": [
    {
     "name": "stdout",
     "output_type": "stream",
     "text": [
      "{\"HttpStatusCode\": 400, \"HttpMessage\": \"Bad Request\", \"MoreInformation\": \"Invalid JSON data. \\\"hardwareID\\\" and \\\"address\\\" are required keys\"}\n"
     ]
    }
   ],
   "source": [
    "# Example failed attempt of PUT request due to wrong JSON keys in request body (\"hardwareid\" instead of \"hardwareID\")\n",
    "resp = req.put(\"https://req.dev.iota.pw\", json=json.dumps({'hardwareid': 1, 'address': 'QCWAVASCPCXAXAYABBRCXASCCBRCCBBBUAUCABQCSCVAYARCYAXAYAZAXAYARCRCQCTCCBXATCABCBABX'}))\n",
    "print(resp.text)"
   ]
  },
  {
   "cell_type": "code",
   "execution_count": 6,
   "metadata": {},
   "outputs": [
    {
     "name": "stdout",
     "output_type": "stream",
     "text": [
      "{\"HttpStatusCode\": 400, \"HttpMessage\": \"Bad Request\", \"MoreInformation\": \"Invalid JSON data. Dict of 2 is required\"}\n"
     ]
    }
   ],
   "source": [
    "# Example failed attempt of POST request due to missing JSON key(s) in request body (1 instead of 2)\n",
    "resp = req.post(\"https://req.dev.iota.pw\", json=json.dumps({'address': 'QCWAVASCPCXAXAYABBRCXASCCBRCCBBBUAUCABQCSCVAYARCYAXAYAZAXAYARCRCQCTCCBXATCABCBABX'}))\n",
    "print(resp.text)"
   ]
  },
  {
   "cell_type": "code",
   "execution_count": 7,
   "metadata": {},
   "outputs": [
    {
     "name": "stdout",
     "output_type": "stream",
     "text": [
      "{\"HttpStatusCode\": 400, \"HttpMessage\": \"Bad Request\", \"MoreInformation\": \"Invalid JSON data. \\\"hardwareID\\\" and \\\"data\\\" are required keys\"}\n"
     ]
    }
   ],
   "source": [
    "# Example failed attempt of POST request due to wrong JSON keys in request body (\"address\" instead of \"data\")\n",
    "resp = req.post(\"https://req.dev.iota.pw\", json=json.dumps({'hardwareID': 1, 'address': 'QCWAVASCPCXAXAYABBRCXASCCBRCCBBBUAUCABQCSCVAYARCYAXAYAZAXAYARCRCQCTCCBXATCABCBABX'}))\n",
    "print(resp.text)"
   ]
  },
  {
   "cell_type": "code",
   "execution_count": 8,
   "metadata": {},
   "outputs": [
    {
     "name": "stdout",
     "output_type": "stream",
     "text": [
      "{\"HttpStatusCode\": 400, \"HttpMessage\": \"Bad Request\", \"MoreInformation\": \"Invalid JSON data. Sensor data should contain exactly 4 values.\"}\n"
     ]
    }
   ],
   "source": [
    "# Example failed attempt of POST request due to missing sensor values in \"data\" key of JSON request body (3 instead of 4 provided)\n",
    "resp = req.post(\"https://req.dev.iota.pw\", json=json.dumps({\"hardwareID\": 1, \"data\": [61.123, 7.933, 19.70]}))\n",
    "print(resp.text)"
   ]
  },
  {
   "cell_type": "code",
   "execution_count": 10,
   "metadata": {},
   "outputs": [
    {
     "name": "stdout",
     "output_type": "stream",
     "text": [
      "{\"HttpStatusCode\": 500, \"HttpMessage\": \"Internal Server Error\", \"MoreInformation\": \"Error inserting values to database\"}\n"
     ]
    }
   ],
   "source": [
    "# Example failed attempt of PUT request due to internal server error\n",
    "resp = req.put(\"https://req.dev.iota.pw\", json=json.dumps({'hardwareID': 1, 'address': 'QCWAVASCPCXAXAYABBRCXASCCBRCCBBBUAUCABQCSCVAYARCYAXAYAZAXAYARCRCQCTCCBXATCABCBABX'}))\n",
    "print(resp.text)"
   ]
  },
  {
   "cell_type": "code",
   "execution_count": null,
   "metadata": {},
   "outputs": [],
   "source": []
  }
 ],
 "metadata": {
  "kernelspec": {
   "display_name": "Python 3",
   "language": "python",
   "name": "python3"
  },
  "language_info": {
   "codemirror_mode": {
    "name": "ipython",
    "version": 3
   },
   "file_extension": ".py",
   "mimetype": "text/x-python",
   "name": "python",
   "nbconvert_exporter": "python",
   "pygments_lexer": "ipython3",
   "version": "3.7.4"
  }
 },
 "nbformat": 4,
 "nbformat_minor": 4
}
